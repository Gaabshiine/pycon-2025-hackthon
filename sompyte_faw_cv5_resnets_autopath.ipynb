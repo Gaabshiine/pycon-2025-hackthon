{
  "cells": [
    {
      "cell_type": "code",
      "execution_count": null,
      "id": "24e81955",
      "metadata": {
        "id": "24e81955"
      },
      "outputs": [],
      "source": []
    }
  ],
  "metadata": {
    "language_info": {
      "name": "python"
    },
    "colab": {
      "provenance": [],
      "gpuType": "T4"
    },
    "accelerator": "GPU",
    "kernelspec": {
      "name": "python3",
      "display_name": "Python 3"
    }
  },
  "nbformat": 4,
  "nbformat_minor": 5
}